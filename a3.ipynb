{
  "nbformat": 4,
  "nbformat_minor": 0,
  "metadata": {
    "colab": {
      "name": "a3.ipynb",
      "provenance": [],
      "authorship_tag": "ABX9TyNRhchMF6JdI3uornypcyIZ",
      "include_colab_link": true
    },
    "kernelspec": {
      "name": "python3",
      "display_name": "Python 3"
    },
    "language_info": {
      "name": "python"
    }
  },
  "cells": [
    {
      "cell_type": "markdown",
      "metadata": {
        "id": "view-in-github",
        "colab_type": "text"
      },
      "source": [
        "<a href=\"https://colab.research.google.com/github/Ciera0427/ba765-assignments/blob/main/a3.ipynb\" target=\"_parent\"><img src=\"https://colab.research.google.com/assets/colab-badge.svg\" alt=\"Open In Colab\"/></a>"
      ]
    },
    {
      "cell_type": "code",
      "metadata": {
        "id": "kmo2fNBbATbU"
      },
      "source": [
        "#define the class, generate objects and state the attributes required\n",
        "import numpy as np\n",
        "class dice_game():\n",
        "  def __init__(self,players=50,wallet=[],games_played=[]):\n",
        "    self.players=players\n",
        "    self.wallet=wallet\n",
        "    self.games_played=games_played\n",
        "#define the simulate method\n",
        "  def simulate(self,players=50,wallet=[],games_played=[]):\n",
        "    for _ in range(players):\n",
        "      #go through the game process\n",
        "      credits=10\n",
        "      games_played=0\n",
        "      while credits>0 and games_played<25:\n",
        "        credits-=1\n",
        "        games_played+=1\n",
        "        dice12=np.random.randint(1,7,2)\n",
        "        #calculate different Grand Totals: \n",
        "        GrandTotal=dice12[0]+dice12[1]\n",
        "        if GrandTotal<=9:\n",
        "          dice3=np.random.randint(1,7,1)\n",
        "          GrandTotal+=dice3\n",
        "        elif GrandTotal==10:\n",
        "          if np.random.choice([True,False],p=[0.9,0.1]):\n",
        "            dice3=np.random.randint(1,7,1)\n",
        "            GrandTotal+=dice3\n",
        "        #calculate payouts\n",
        "        if GrandTotal<=9:\n",
        "          payout=0\n",
        "        elif GrandTotal in [10,12]:\n",
        "          payout=1\n",
        "        elif GrandTotal==13:\n",
        "          payout=2\n",
        "        elif GrandTotal in [11,14,15]:\n",
        "          payout=0\n",
        "        elif GrandTotal==16:\n",
        "          payout=5\n",
        "        credits=credits+payout\n",
        "    \n",
        "      #append the games_played and wallet\n",
        "      self.games_played.append(games_played)  \n",
        "      self.wallet.append(credits)    \n",
        "\n",
        "#define the avg_rounds method:\n",
        "  def avg_rounds(self):\n",
        "    gamesarr=np.array(self.games_played)\n",
        "    avgrounds=int(gamesarr.mean())\n",
        "    return avgrounds\n",
        "#define the profit method:\n",
        "  def profit(self):\n",
        "    walletarr=np.array(self.wallet)\n",
        "    consumerincome=walletarr-10\n",
        "    profit=-consumerincome.sum()\n",
        "    return profit"
      ],
      "execution_count": 231,
      "outputs": []
    }
  ]
}