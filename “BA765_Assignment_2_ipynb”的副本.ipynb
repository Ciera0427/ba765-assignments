{
  "nbformat": 4,
  "nbformat_minor": 0,
  "metadata": {
    "colab": {
      "name": "“BA765_Assignment_2.ipynb”的副本",
      "provenance": [],
      "collapsed_sections": [],
      "include_colab_link": true
    },
    "kernelspec": {
      "name": "python3",
      "display_name": "Python 3"
    }
  },
  "cells": [
    {
      "cell_type": "markdown",
      "metadata": {
        "id": "view-in-github",
        "colab_type": "text"
      },
      "source": [
        "<a href=\"https://colab.research.google.com/github/Ciera0427/ba765-assignments/blob/main/%E2%80%9CBA765_Assignment_2_ipynb%E2%80%9D%E7%9A%84%E5%89%AF%E6%9C%AC.ipynb\" target=\"_parent\"><img src=\"https://colab.research.google.com/assets/colab-badge.svg\" alt=\"Open In Colab\"/></a>"
      ]
    },
    {
      "cell_type": "markdown",
      "metadata": {
        "id": "mzv8h94p1lp9"
      },
      "source": [
        "# Assignment 2\n",
        "\n",
        "Complete the questions below by answering each question using the appropriate variable name. Do not change the variable names.  \n",
        "\n",
        "To keep the file sizes small, I provide you with very low volume of data, but this does not mean you should use visual inspection. For example, if the maximum value of a list is asked, find it via code, not via visual inspection. \n",
        "\n",
        "Once you completed this assignment, upload the notebook to your GitHub repository (same one that you used for assignment 1) and export your work also as `a2.py` (with this name and format) and submit to QuestromTools course site.\n",
        "\n",
        "ENJOY!"
      ]
    },
    {
      "cell_type": "code",
      "metadata": {
        "id": "5-Pjxmz2o6kX"
      },
      "source": [
        "# Personal Information:\n",
        "# Name: KEXI PI\n",
        "# Email: pikexi@bu.edu\n",
        "# BU id: U07183597"
      ],
      "execution_count": null,
      "outputs": []
    },
    {
      "cell_type": "markdown",
      "metadata": {
        "id": "81VWGDeE2Khh"
      },
      "source": [
        "# Question 1:\n"
      ]
    },
    {
      "cell_type": "code",
      "metadata": {
        "id": "6S3uH33EH4k6"
      },
      "source": [
        "# STARTER CODE\n",
        "\n",
        "# imports\n",
        "import requests\n",
        "\n",
        "# the URL\n",
        "URL = \"https://www.metaweather.com/api/location/search/?query=boston\"\n",
        "\n",
        "# the API response setup for this question\n",
        "resp = requests.get(URL).json()"
      ],
      "execution_count": null,
      "outputs": []
    },
    {
      "cell_type": "code",
      "metadata": {
        "id": "By9Oc7syIW4u",
        "colab": {
          "base_uri": "https://localhost:8080/"
        },
        "outputId": "3cb0e9c9-f1da-46c2-a51b-e4f05bc98ef5"
      },
      "source": [
        "# Q1:  save a variable q1_1, which _extracts_ the dictionary from the variable resp provided\n",
        "#      to you in the starter code for Question 1\n",
        "print(resp)\n",
        "q1_1 = resp[0]\n",
        "print (q1_1)\n",
        "\n",
        "\n",
        "\n"
      ],
      "execution_count": null,
      "outputs": [
        {
          "output_type": "stream",
          "text": [
            "[{'title': 'Boston', 'location_type': 'City', 'woeid': 2367105, 'latt_long': '42.358631,-71.056702'}]\n",
            "{'title': 'Boston', 'location_type': 'City', 'woeid': 2367105, 'latt_long': '42.358631,-71.056702'}\n"
          ],
          "name": "stdout"
        }
      ]
    },
    {
      "cell_type": "code",
      "metadata": {
        "id": "g-7uAzeFI0_f",
        "colab": {
          "base_uri": "https://localhost:8080/"
        },
        "outputId": "740375af-fd00-47f6-af04-028c24bd5e25"
      },
      "source": [
        "# Q2: In the variable q1_2, save the keys of the dictionary in q1 as a list\n",
        "q1_2 = list(q1_1.keys())\n",
        "print(q1_2)\n",
        "type(q1_2)\n",
        "\n"
      ],
      "execution_count": null,
      "outputs": [
        {
          "output_type": "stream",
          "text": [
            "['title', 'location_type', 'woeid', 'latt_long']\n"
          ],
          "name": "stdout"
        },
        {
          "output_type": "execute_result",
          "data": {
            "text/plain": [
              "list"
            ]
          },
          "metadata": {
            "tags": []
          },
          "execution_count": 63
        }
      ]
    },
    {
      "cell_type": "code",
      "metadata": {
        "id": "hzwzYD3vI1H1",
        "colab": {
          "base_uri": "https://localhost:8080/"
        },
        "outputId": "47956ea2-fe9b-4a71-b113-037a2a7cb982"
      },
      "source": [
        "# Q3: extract the latitude (lat) and longitude (lng) from the dictionary\n",
        "#     Each value should be a float\n",
        "#     TIP: the dictionary key provides guidance on the order\n",
        "\n",
        "comb=list(q1_1.values())[3]\n",
        "comb1=comb.split(',')\n",
        "lat=float(comb1[0])\n",
        "lng=float(comb1[1])\n",
        "print(lat)\n",
        "print(lng)\n",
        "type(lat)\n",
        "type(lng)\n",
        "\n",
        "\n",
        "\n",
        "\n",
        "\n",
        "\n",
        "\n",
        "\n",
        "\n",
        "\n",
        "\n",
        "\n"
      ],
      "execution_count": null,
      "outputs": [
        {
          "output_type": "stream",
          "text": [
            "42.358631\n",
            "-71.056702\n"
          ],
          "name": "stdout"
        },
        {
          "output_type": "execute_result",
          "data": {
            "text/plain": [
              "float"
            ]
          },
          "metadata": {
            "tags": []
          },
          "execution_count": 60
        }
      ]
    },
    {
      "cell_type": "code",
      "metadata": {
        "id": "qUsFGz-4I1LU",
        "colab": {
          "base_uri": "https://localhost:8080/"
        },
        "outputId": "5fbf2056-3f25-4bd5-b5bd-5cd576f011af"
      },
      "source": [
        "# Q4: using the dictionary key woeid from q1, keep only the even numbers from the id\n",
        "#     save the values as seperate entries in a list. Save this list as the variable q1_4\n",
        "numb=str(q1_1[\"woeid\"])\n",
        "q1_4=[]\n",
        "for i in numb:\n",
        "  if int(i)%2==0:\n",
        "    print(i)\n",
        "    a=int(i)\n",
        "    q1_4.append(a)\n",
        "print(q1_4)\n",
        "type(q1_4)\n",
        "\n",
        "\n",
        "\n",
        "\n"
      ],
      "execution_count": null,
      "outputs": [
        {
          "output_type": "stream",
          "text": [
            "2\n",
            "6\n",
            "0\n",
            "[2, 6, 0]\n"
          ],
          "name": "stdout"
        },
        {
          "output_type": "execute_result",
          "data": {
            "text/plain": [
              "list"
            ]
          },
          "metadata": {
            "tags": []
          },
          "execution_count": 91
        }
      ]
    },
    {
      "cell_type": "markdown",
      "metadata": {
        "id": "WhPv5Ew0Mq-k"
      },
      "source": [
        "# Question 2\n",
        "\n",
        "You have been provided a file that can be read in with the following code:\n",
        "\n",
        "```\n",
        "import pickle\n",
        "with open('q2.pkl', 'rb') as file:\n",
        "  jokes = pickle.load(file)\n",
        "```\n",
        "\n",
        "In your session, `jokes` is a list of dictionaries.  You will use this object to answer the questions below.\n",
        "\n",
        "> Hint:  If you are using Google Colab, you will need to upload the `q2.pkl` file in your gDrive or to the Colab Sesssion. "
      ]
    },
    {
      "cell_type": "code",
      "metadata": {
        "id": "ZbHfSisTMC8A",
        "colab": {
          "base_uri": "https://localhost:8080/"
        },
        "outputId": "787ea196-a366-4436-d6e1-f8f412346150"
      },
      "source": [
        "# Q1:  q2_1 should represent a set of the values from the categories key.\n",
        "import pickle\n",
        "with open('q2.pkl', 'rb') as file:\n",
        "  jokes = pickle.load(file)\n",
        "print(jokes)\n",
        "q2_1=set()\n",
        "for a in jokes: \n",
        "  b=a[\"value\"][\"categories\"]\n",
        "  q2_1.add(b[0])\n",
        "print(q2_1)\n",
        "type(q2_1)\n",
        "\n",
        "#Question: We cannot visualize \"jokes\" so how do we know where to find \"categories\"?\n",
        " \n",
        "\n",
        "\n",
        "\n",
        "\n",
        "\n",
        "\n",
        "\n",
        "\n",
        "\n",
        "\n",
        "      \n",
        "\n",
        "    \n",
        "\n",
        "\n",
        "\n"
      ],
      "execution_count": null,
      "outputs": [
        {
          "output_type": "stream",
          "text": [
            "[{'type': 'success', 'value': {'id': 100, 'joke': 'Chuck Norris grinds his coffee with his teeth and boils the water with his own rage.', 'categories': ['plain']}}, {'type': 'success', 'value': {'id': 150, 'joke': 'Superman once watched an episode of Walker, Texas Ranger. He then cried himself to sleep.', 'categories': ['dad joke']}}, {'type': 'success', 'value': {'id': 250, 'joke': 'The truth will set you free. Unless Chuck Norris has you, in which case, forget it buddy!', 'categories': ['bad joke']}}, {'type': 'success', 'value': {'id': 480, 'joke': 'The class object inherits from Chuck Norris', 'categories': ['nerdy']}}, {'type': 'success', 'value': {'id': 490, 'joke': \"Chuck Norris doesn't need to use AJAX because pages are too afraid to postback anyways.\", 'categories': ['nerdy']}}]\n",
            "{'nerdy', 'bad joke', 'dad joke', 'plain'}\n"
          ],
          "name": "stdout"
        },
        {
          "output_type": "execute_result",
          "data": {
            "text/plain": [
              "set"
            ]
          },
          "metadata": {
            "tags": []
          },
          "execution_count": 2
        }
      ]
    },
    {
      "cell_type": "code",
      "metadata": {
        "id": "Wpc1ehwYN0bP",
        "colab": {
          "base_uri": "https://localhost:8080/"
        },
        "outputId": "94df4bc3-9205-4226-b239-6018e60cda49"
      },
      "source": [
        "# Q2: What is the largest value (max) across the key id.  Save this value as q2_2\n",
        "idlist=list()\n",
        "for i in jokes:\n",
        "  idv=i[\"value\"][\"id\"]\n",
        "  idlist.append(idv)\n",
        "q2_2=max(idlist)\n",
        "print(q2_2)\n",
        "\n",
        "\n"
      ],
      "execution_count": null,
      "outputs": [
        {
          "output_type": "stream",
          "text": [
            "490\n"
          ],
          "name": "stdout"
        }
      ]
    },
    {
      "cell_type": "code",
      "metadata": {
        "id": "NDBlwbi3N0gY",
        "colab": {
          "base_uri": "https://localhost:8080/"
        },
        "outputId": "492b428f-3b1f-4946-ae39-7f628a188e11"
      },
      "source": [
        "# Q3: Each entry of jokes has a joke key.  This is a sentence pulled randomly from an online jokes api.  \n",
        "#     Remove the following characters '.,!' (punctuation present in these jokes)\n",
        "#     Make the text lower case.\n",
        "#     Add each word in each entry as a key to a dictionary you store in the variable q2_3 below.\n",
        "#     The value for each key should represent the total number of times the word appeared across the jokes object\n",
        "#     Summary: q2_3 should be a dictionary of word:count pairs, where count is the number of times the word appeared\n",
        "#              across all entries of jokes in the joke key\n",
        "q2_3=dict()\n",
        "a=0\n",
        "for i in jokes:\n",
        "  jokey=i[\"value\"][\"joke\"]\n",
        "  textrem=jokey.replace(\".\",\"\")\n",
        "  textrem=jokey.replace(\",\",\"\")\n",
        "  textrem=jokey.replace(\"!\",\"\")\n",
        "  textrem=textrem.lower()\n",
        "  wordslist=textrem.split(\" \")\n",
        "  for wordkey in wordslist:\n",
        "    numb=wordslist.count(wordkey)\n",
        "    q2_3[wordkey]=numb\n",
        "print(q2_3)\n",
        "\n",
        "    \n",
        "\n",
        "      \n",
        "\n",
        "  \n",
        "  \n",
        "\n",
        "\n"
      ],
      "execution_count": 76,
      "outputs": [
        {
          "output_type": "stream",
          "text": [
            "{'chuck': 1, 'norris': 1, 'grinds': 1, 'his': 3, 'coffee': 1, 'with': 2, 'teeth': 1, 'and': 1, 'boils': 1, 'the': 1, 'water': 1, 'own': 1, 'rage.': 1, 'superman': 1, 'once': 1, 'watched': 1, 'an': 1, 'episode': 1, 'of': 1, 'walker,': 1, 'texas': 1, 'ranger.': 1, 'he': 1, 'then': 1, 'cried': 1, 'himself': 1, 'to': 2, 'sleep.': 1, 'truth': 1, 'will': 1, 'set': 1, 'you': 1, 'free.': 1, 'unless': 1, 'has': 1, 'you,': 1, 'in': 1, 'which': 1, 'case,': 1, 'forget': 1, 'it': 1, 'buddy': 1, 'class': 1, 'object': 1, 'inherits': 1, 'from': 1, \"doesn't\": 1, 'need': 1, 'use': 1, 'ajax': 1, 'because': 1, 'pages': 1, 'are': 1, 'too': 1, 'afraid': 1, 'postback': 1, 'anyways.': 1}\n"
          ],
          "name": "stdout"
        }
      ]
    },
    {
      "cell_type": "markdown",
      "metadata": {
        "id": "Y1PXAz_7y2ze"
      },
      "source": [
        "# Question 3\n",
        "\n",
        "Write a function called `guessing_game` that satisfies the following requirements:\n",
        "\n",
        "1.  When the function is called, the user is prompted to guess a word\n",
        "1.  The function, internally, will randomly choose a word for the game.  The population of word (the word list) is shown below.\n",
        "1.  If the user does not guess the proper word, the user should be prompted again to try another guess\n",
        "1.  The user is only allowed 3 guesses.  If the user fails to guess the chosen word after 3 attempts, the message `Sorry, the game is over.` should be printed to the screen.\n",
        "1.  If the user enters a word not part of the list below, the message `That word is not part of the vocabulary.` should be printed to the screen.  However, if this situation occurs during the 3rd failed guess, only the message in step 4 should be printed.\n",
        "1.  If the user correctly guesses the word, the message `Correct! Well Done.` should be printed on the screen.\n",
        "1.  If a string is not input by the user, the function should print `You did not guess a string, Game Over!` and end the game. You can use `string` package as in `string.ascii_letters` to guarantee that the entry is a string semantically.\n",
        "\n",
        "\n",
        "\n",
        "The word list that should be used by the function:\n",
        "\n",
        "- `numpy`\n",
        "- `seaborn`\n",
        "- `pandas`\n",
        "- `pantab`\n",
        "- `spacy`\n",
        "- `requests`\n",
        "- `tensorflow`\n",
        "\n"
      ]
    },
    {
      "cell_type": "code",
      "metadata": {
        "id": "YdSB88Mi3r3f"
      },
      "source": [
        "# build your function below\n",
        "import random\n",
        "import string\n",
        "\n",
        "def guessing_game():\n",
        "  wordlist=[\"numpy\",\"seaborn\",\"pandas\",\"pantab\",\"spacy\",\"requests\",\"tensorflow\"]\n",
        "  times=1\n",
        "  while times <=3:\n",
        "    guessingword=input(\"Guess a word:\") \n",
        "    chosedword=random.choice(wordlist)\n",
        "    times+=1\n",
        "    for word in guessingword:\n",
        "      if word not in string.ascii_letters:\n",
        "        print(\"You did not guess a string, Game Over!\")\n",
        "        return\n",
        "    if guessingword in wordlist:\n",
        "      if guessingword==chosedword:\n",
        "        print(\"Correct! Well Done\")  \n",
        "      else: \n",
        "        print(\"Try next time!\") \n",
        "    elif guessingword not in wordlist:\n",
        "      print(\"That word is not part of the vocabulary.\")\n",
        "  else:\n",
        "    print(\"Sorry, the game is over.\")\n",
        "    return\n",
        "\n",
        "\n",
        "\n",
        "\n",
        "\n",
        "\n",
        "   \n",
        "    \n",
        "\n",
        "\n",
        "\n",
        "\n",
        "\n",
        "\n",
        "\n",
        "\n",
        "\n",
        "\n",
        "\n",
        "\n",
        "\n",
        "\n",
        "\n",
        "\n",
        "\n",
        "\n",
        "\n"
      ],
      "execution_count": 178,
      "outputs": []
    }
  ]
}